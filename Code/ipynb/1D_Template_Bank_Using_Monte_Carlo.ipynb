{
 "cells": [
  {
   "cell_type": "code",
   "execution_count": null,
   "metadata": {},
   "outputs": [],
   "source": [
    "import matplotlib.pyplot as plt # For ploting\n",
    "import numpy as np # To work with numerical data efficiently\n",
    "import scipy as scp\n",
    "from scipy import integrate  \n",
    "from scipy.misc import derivative\n",
    "from scipy import random\n",
    "import sympy as sp\n",
    "import time"
   ]
  },
  {
   "cell_type": "code",
   "execution_count": null,
   "metadata": {},
   "outputs": [],
   "source": [
    "# We Define most of our constants in this section\n",
    "c = 299792458.0 #The Speed of Light in m/s\n",
    "G = 6.67408e-11 # The Gravitional Constant in m3/(kg s^2)\n",
    "M_sun = 1.9884754153381438e+30 # The mass of the sun in kg\n",
    "f_0 = float(10) # An initial frequency of 10 Hz\n",
    "omega_0 = 2*np.pi*f_0 # The inital angular frequency in rad/s\n",
    "\n",
    "M_min = 1*M_sun # Minimum total mass for a binary neutron star system\n",
    "M_max = 3*M_sun # Maximum total mass for a binary neutron star system\n",
    "print(M_min)\n",
    "print(M_max)"
   ]
  },
  {
   "cell_type": "code",
   "execution_count": null,
   "metadata": {},
   "outputs": [],
   "source": [
    "MM = float(input(\"What is the minimal match? \"))"
   ]
  },
  {
   "cell_type": "code",
   "execution_count": null,
   "metadata": {},
   "outputs": [],
   "source": [
    "# We first need to built templates along the equal mass curve\n",
    "nu = 1/4 # symmetric mass"
   ]
  },
  {
   "cell_type": "code",
   "execution_count": null,
   "metadata": {},
   "outputs": [],
   "source": [
    "# We define the Newtonian chirp time as a function of the total mass of the system\n",
    "A_0 = (5/256)*(np.pi*f_0)**(-8/3)\n",
    "A_1 = c**5\n",
    "A_2 = G**(-5/3)\n",
    "def tau_0(M):\n",
    "    return A_1*A_2*(A_0/nu)*(M**(-5/3))\n",
    "\n",
    "def Mass(tau_0):\n",
    "    return (A_1*A_2*(A_0/nu)*(1/tau_0))**(3/5)\n",
    "\n",
    "print(tau_0(M_min))\n",
    "print(tau_0(M_max))\n",
    "\n",
    "print(Mass(tau_0(M_min)))"
   ]
  },
  {
   "cell_type": "code",
   "execution_count": null,
   "metadata": {},
   "outputs": [],
   "source": [
    "# The frequency at which the two objects merge in Hz\n",
    "# known as the ISCO gravitational-wave frequency\n",
    "# ISCO stands for innermost stable circular orbit\n",
    "\n",
    "c_3 = c**3/np.pi*G*6**(3/2)\n",
    "\n",
    "def f_LSO(M):\n",
    "    return c_3*M**-1"
   ]
  },
  {
   "cell_type": "code",
   "execution_count": null,
   "metadata": {},
   "outputs": [],
   "source": [
    "# Since our template bank is one dimensional\n",
    "D = 1 # D is the dimension of our parameter space\n",
    "\n",
    "# Proper Volume Per Template for a hypercubic lattice\n",
    "DeltaV = (2*np.sqrt((1-MM)/D))**D\n",
    "\n",
    "print(DeltaV)"
   ]
  },
  {
   "cell_type": "code",
   "execution_count": null,
   "metadata": {},
   "outputs": [],
   "source": [
    "def g(x):\n",
    "    return (5*x**(-7/3))/(x**-4 + 2*(1+x**2))\n",
    "I_7,err = integrate.quad(g,4,np.inf)\n",
    "\n",
    "print(I_7)"
   ]
  },
  {
   "cell_type": "code",
   "execution_count": null,
   "metadata": {},
   "outputs": [],
   "source": [
    "def psi_0(x):\n",
    "    return 2*np.pi*f_0*x\n",
    "                          \n",
    "def psi_1(x):\n",
    "    return 2*np.pi*f_0*(3/5)*(x**(-5/3))"
   ]
  },
  {
   "cell_type": "code",
   "execution_count": null,
   "metadata": {},
   "outputs": [],
   "source": [
    "# Metric Calculation Method: Monte Carlo Integration\n",
    "# Monte Carlo integration is better for higher dimensions\n",
    "# However, I did it here because it's what was used in the\n",
    "# research papers.\n",
    "\n",
    "start = time.time()\n",
    "\n",
    "f_L = 20 # Hz\n",
    "f_U = 30 # Hz\n",
    "\n",
    "L = f_L/f_0\n",
    "U = f_U/f_0 # limits of integration\n",
    "\n",
    "# Sampling the signal with a sampling rate of 2*f_LSO Hz\n",
    "# In this case, we are using the Nyquist sampling rate.\n",
    "Fs = 2.5*f_U # Engineering Nyquist Sampling rate frequency\n",
    "F_Nyquist = Fs/2 # Nyquist frequency\n",
    "delta_t = 1/Fs # Sampling inverval/rate or time between data points\n",
    "\n",
    "T = 40 # Sampling space or total time interval in seconds\n",
    "# Note that delta_t = T/n\n",
    "\n",
    "n = int(round(T/delta_t)) # n is the number of sample points\n",
    "xrand = random.uniform(L,U,n) # We generate some randome numbers\n",
    "\n",
    "def h_0(x):\n",
    "    return g(x)*psi_0(x)\n",
    "def h_00(x):\n",
    "    return g(x)*psi_0(x)**2 #psi_0(x)\n",
    "def h_1(x):\n",
    "    return g(x)*psi_1(x)\n",
    "def h_01(x):\n",
    "    return g(x)*psi_0(x)*psi_1(x)\n",
    "def h_11(x):\n",
    "    return g(x)*psi_1(x)*psi_1(x)\n",
    "\n",
    "\n",
    "# We use Monte Carlo integration to find \n",
    "# the moment functionals\n",
    "\n",
    "integral = 1.0\n",
    "\n",
    "for i in range(n):\n",
    "    integral += h_0(xrand[i])\n",
    "\n",
    "    J_0 = (U - L)/float(n)*integral/I_7\n",
    "\n",
    "integral = 1.0\n",
    "\n",
    "for i in range(n):\n",
    "    integral += h_00(xrand[i])\n",
    "\n",
    "    J_00 = (U - L)/float(n)*integral/I_7\n",
    "\n",
    "integral = 1.0\n",
    "    \n",
    "for i in range(n):\n",
    "    integral += h_1(xrand[i])\n",
    "\n",
    "    J_1 = (U - L)/float(n)*integral/I_7\n",
    "\n",
    "integral = 1.0\n",
    "\n",
    "for i in range(n):\n",
    "    integral += h_01(xrand[i])\n",
    "\n",
    "    J_01 = (U - L)/float(n)*integral/I_7\n",
    "    \n",
    "integral = 1.0\n",
    "    \n",
    "for i in range(n):\n",
    "    integral += h_11(xrand[i])\n",
    "\n",
    "    J_11 = (U - L)/float(n)*integral/I_7\n",
    "    \n",
    "\n",
    "# We can now calculate the gammas which\n",
    "# we will use to calculate the metric\n",
    "\n",
    "gamma_00 = (1/2)*(J_00 - J_0*J_0)\n",
    "gamma_01 = (1/2)*(J_01 - J_0*J_1)\n",
    "gamma_11 = (1/2)*(J_11 - J_1*J_1)\n",
    "\n",
    "# In general the metric is defined as\n",
    "# g_ij = gamma_ij - gamma_0i*gamma_0j/gamma_00\n",
    "\n",
    "# For our one dimesional space our metric only has one component\n",
    "g11 = gamma_11 - gamma_01*gamma_01/gamma_00\n",
    "\n",
    "end = time.time()\n",
    "print(end - start) # Time it takes to run the program"
   ]
  },
  {
   "cell_type": "code",
   "execution_count": null,
   "metadata": {},
   "outputs": [],
   "source": [
    "# Now since our metric is a scalar\n",
    "# it's equal to it's determinant\n",
    "# therefore we can just use g11\n",
    "\n",
    "V = np.sqrt(g11)*(tau_0(M_min) - tau_0(M_max))\n",
    "\n",
    "# N is the Number of Templates required to cover\n",
    "# the desired range of parameters\n",
    "\n",
    "N = (1/DeltaV)*V\n",
    "print(N)\n",
    "\n",
    "dl = np.sqrt(2*((1-MM)/g11))"
   ]
  },
  {
   "cell_type": "code",
   "execution_count": null,
   "metadata": {},
   "outputs": [],
   "source": [
    "# Template Bank Placement Algorithm\n",
    "\n",
    "# We lay templates assuming for points in which nu = 1/4\n",
    "\n",
    "y = tau_0(M_max) # Our starting point\n",
    "f = open(\"InspiralTemplateList.txt\", \"w\") # Open new data file\n",
    "while y <= tau_0(M_min):\n",
    "    f.write( str(y) + \"\\n\"  )\n",
    "    y = y + dl\n",
    "else:\n",
    "    f.write( str(tau_0(M_min)))\n",
    "    f.close()\n",
    "    \n",
    "# Now we print out the contents of the file\n",
    "print(open('InspiralTemplateList.txt').read())"
   ]
  }
 ],
 "metadata": {
  "kernelspec": {
   "display_name": "Python 3",
   "language": "python",
   "name": "python3"
  },
  "language_info": {
   "codemirror_mode": {
    "name": "ipython",
    "version": 3
   },
   "file_extension": ".py",
   "mimetype": "text/x-python",
   "name": "python",
   "nbconvert_exporter": "python",
   "pygments_lexer": "ipython3",
   "version": "3.6.5"
  }
 },
 "nbformat": 4,
 "nbformat_minor": 2
}
